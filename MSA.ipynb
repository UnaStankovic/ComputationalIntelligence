{
 "cells": [
  {
   "cell_type": "code",
   "execution_count": 77,
   "metadata": {},
   "outputs": [
    {
     "name": "stdout",
     "output_type": "stream",
     "text": [
      "ID: Sick\n",
      "Name: Sick\n",
      "Description: Sick patient HBB\n",
      "Number of features: 0\n",
      "Seq('ACATTTGCTTCTGACACAACTGTGTTCACTAGCAACCTCAAACAGACACCATGG...CAA', SingleLetterAlphabet())\n",
      "ACATTTGCTTCTGACACAACTGTGTTCACTAGCAACCTCAAACAGACACCATGGTGCATCTGACTCCTGTGGAGAAGTCTGCCGTTACTGCCCTGTGGGGCAAGGTGAACGTGGATGAAGTTGGTGGTGAGGCCCTGGGCAGGCTGCTGGTGGTCTACCCTTGGACCCAGAGGTTCTTTGAGTCCTTTGGGGATCTGTCCACTCCTGATGCTGTTATGGGCAACCCTAAGGTGAAGGCTCATGGCAAGAAAGTGCTCGGTGCCTTTAGTGATGGCCTGGCTCACCTGGACAACCTCAAGGGCACCTTTGCCACACTGAGTGAGCTGCACTGTGACAAGCTGCACGTGGATCCTGAGAACTTCAGGCTCCTGGGCAACGTGCTGGTCTGTGTGCTGGCCCATCACTTTGGCAAAGAATTCACCCCACCAGTGCAGGCTGCCTATCAGAAAGTGGTGGCTGGTGTGGCTAATGCCCTGGCCCACAAGTATCACTAAGCTCGCTTTCTTGCTGTCCAATTTCTATTAAAGGTTCCTTTGTTCCCTAAGTCCAACTACTAAACTGGGGGATATTATGAAGGGCCTTGAGCATCTGGATTCTGCCTAATAAAAAACATTTATTTTCATTGCAA\n"
     ]
    }
   ],
   "source": [
    "#MSA\n",
    "from Bio.Seq import Seq\n",
    "import Bio.SeqIO as SeqIO\n",
    "import random\n",
    "import numpy as np\n",
    "\n",
    "sick_patient_seq = SeqIO.read('HBS.fasta', 'fasta')\n",
    "print(sick_patient_seq)\n",
    "print(sick_patient_seq.seq)\n",
    "\n",
    "\n",
    "# number of individuals in each generation \n",
    "NUM_SEQ = 10\n",
    "POP_SIZE = 10\n",
    "SEQ_LEN = 15"
   ]
  },
  {
   "cell_type": "code",
   "execution_count": 78,
   "metadata": {},
   "outputs": [],
   "source": [
    "def generate_sequence(base, length=5, prob=0.5):\n",
    "    pattern = \"\"\n",
    "    a = [\"A\",\"C\",\"G\",\"T\"]\n",
    "    \n",
    "    for i in range(0, length):\n",
    "        r = random.randrange(0,4)\n",
    "        p = random.random()\n",
    "        #print(r)\n",
    "        if p >= prob:\n",
    "            pattern += base[i]\n",
    "        else:\n",
    "            pattern += a[r]\n",
    "            \n",
    "    return pattern \n",
    "\n",
    "def generate_set(base):\n",
    "    seq_set = []\n",
    "    \n",
    "    for i in range(0, NUM_SEQ):\n",
    "        seq_set.append(generate_sequence(base, SEQ_LEN))\n",
    "       \n",
    "    return seq_set\n",
    "\n",
    "base = 'ACATTTGCTTCTGACACAACTGTGTTCACTAGCAACCTCAAACAGACACCATGG'\n",
    "sequences = generate_set(base)"
   ]
  },
  {
   "cell_type": "code",
   "execution_count": 79,
   "metadata": {},
   "outputs": [
    {
     "data": {
      "text/plain": [
       "['CCATTTGAACTTTAC',\n",
       " 'ATTAAAACAACTGAA',\n",
       " 'AAATGCTATTGTGAG',\n",
       " 'TCCTTTTTATCTTGC',\n",
       " 'AGATCTGAATGTTGC',\n",
       " 'AGAACAGCTATTCAC',\n",
       " 'GCGCTTGCTTCGGAC',\n",
       " 'ACCCTCCCTGATGAC',\n",
       " 'GCAGTTTGTTCTAGG',\n",
       " 'CCGTTTGCATGTGAG']"
      ]
     },
     "execution_count": 79,
     "metadata": {},
     "output_type": "execute_result"
    }
   ],
   "source": [
    "sequences"
   ]
  },
  {
   "cell_type": "code",
   "execution_count": 80,
   "metadata": {},
   "outputs": [],
   "source": [
    "\n",
    "def initial_population(sequences, population_size):\n",
    "    population = []\n",
    "    movements = [i for i in range(-5, 5)]\n",
    "    \n",
    "    for _ in range(population_size):\n",
    "        population.append(random.sample(movements, len(sequences)))\n",
    "        \n",
    "    return population\n",
    "\n",
    "initial_pop = initial_population(sequences, POP_SIZE)"
   ]
  },
  {
   "cell_type": "code",
   "execution_count": 81,
   "metadata": {},
   "outputs": [
    {
     "data": {
      "text/plain": [
       "[[-5, 1, -2, 3, -4, -1, 0, 2, -3, 4],\n",
       " [3, 4, 0, 2, -4, -3, -2, -1, -5, 1],\n",
       " [-1, -3, 1, 2, 4, -4, -5, -2, 3, 0],\n",
       " [1, -1, -3, 2, -2, -4, 4, -5, 3, 0],\n",
       " [-1, 0, -2, -3, 1, -5, 3, -4, 2, 4],\n",
       " [-1, 1, 2, -5, -4, -2, 0, -3, 3, 4],\n",
       " [-5, -3, -1, 1, -4, 3, 2, -2, 0, 4],\n",
       " [2, -4, -1, 1, -2, 3, 0, -5, -3, 4],\n",
       " [1, -4, -1, 4, 3, -2, -5, 2, 0, -3],\n",
       " [-4, 4, -1, -5, -3, 3, 2, 1, -2, 0]]"
      ]
     },
     "execution_count": 81,
     "metadata": {},
     "output_type": "execute_result"
    }
   ],
   "source": [
    "initial_pop"
   ]
  },
  {
   "cell_type": "code",
   "execution_count": 143,
   "metadata": {},
   "outputs": [
    {
     "name": "stdout",
     "output_type": "stream",
     "text": [
      "([-5, -3, -1, 1, -4, 3, 2, -2, 0, 4], 88)\n",
      "([-1, 0, -2, -3, 1, -5, 3, -4, 2, 4], 90)\n",
      "([-5, 1, -2, 3, -4, -1, 0, 2, -3, 4], 91)\n",
      "([-1, -3, 1, 2, 4, -4, -5, -2, 3, 0], 92)\n",
      "([2, -4, -1, 1, -2, 3, 0, -5, -3, 4], 92)\n"
     ]
    },
    {
     "data": {
      "text/plain": [
       "[([-5, -3, -1, 1, -4, 3, 2, -2, 0, 4], 88),\n",
       " ([-1, 0, -2, -3, 1, -5, 3, -4, 2, 4], 90),\n",
       " ([-5, 1, -2, 3, -4, -1, 0, 2, -3, 4], 91),\n",
       " ([-1, -3, 1, 2, 4, -4, -5, -2, 3, 0], 92),\n",
       " ([2, -4, -1, 1, -2, 3, 0, -5, -3, 4], 92)]"
      ]
     },
     "execution_count": 143,
     "metadata": {},
     "output_type": "execute_result"
    }
   ],
   "source": [
    "def calc_score(seqs):\n",
    "    s = np.array(seqs)\n",
    "    #print(set(s[:,0]))\n",
    "    \n",
    "    score = 0\n",
    "    \n",
    "    #looking for num of cols\n",
    "    for i in range(0,s.shape[1]):\n",
    "        #print(len(set(s[:,i])))\n",
    "        score += len(set(s[:,i]))\n",
    "        \n",
    "    return score\n",
    "\n",
    "def MSA(ps, top=5):\n",
    "    scores = []\n",
    "    top_scores = []\n",
    "    \n",
    "    for i in range(0, len(ps)):\n",
    "        scores.append((initial_pop[i],calc_score(ps[i])))\n",
    "    scores = sorted(scores, key=lambda x: x[1])\n",
    "    \n",
    "    for i in range(0, top):\n",
    "        top_scores.append(scores[i])\n",
    "#     for i in range(0, len(top_scores)):\n",
    "#         print(top_scores[i])\n",
    "        \n",
    "    return top_scores \n",
    "\n",
    "def pad_sequence(seq, pad, l ,r):\n",
    "    sample_size = r - l + SEQ_LEN + 1\n",
    "    sample = ['-' for i in range(sample_size)]\n",
    "    \n",
    "    sample[pad - l: pad - l + len(seq)] = seq\n",
    "\n",
    "    return sample\n",
    "\n",
    "\n",
    "\n",
    "#padded based on population\n",
    "padded_sequences = []\n",
    "for i in range(0,len(initial_pop)):\n",
    "    #highest and lowest padding values\n",
    "    l = min(initial_pop[i])\n",
    "    r = max(initial_pop[i])\n",
    "    #for each chromosome\n",
    "    padded_seqs = []\n",
    "    for p,s in zip(initial_pop[i], sequences):\n",
    "        padded_seqs.append(pad_sequence(s, p, l, r))\n",
    "    padded_sequences.append(padded_seqs)\n",
    "    \n",
    "    \n",
    "MSA(padded_sequences)\n"
   ]
  },
  {
   "cell_type": "code",
   "execution_count": null,
   "metadata": {},
   "outputs": [],
   "source": [
    "  "
   ]
  },
  {
   "cell_type": "code",
   "execution_count": null,
   "metadata": {},
   "outputs": [],
   "source": []
  }
 ],
 "metadata": {
  "kernelspec": {
   "display_name": "Python 3",
   "language": "python",
   "name": "python3"
  },
  "language_info": {
   "codemirror_mode": {
    "name": "ipython",
    "version": 3
   },
   "file_extension": ".py",
   "mimetype": "text/x-python",
   "name": "python",
   "nbconvert_exporter": "python",
   "pygments_lexer": "ipython3",
   "version": "3.7.7"
  }
 },
 "nbformat": 4,
 "nbformat_minor": 4
}
