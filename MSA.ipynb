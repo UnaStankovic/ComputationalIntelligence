{
 "cells": [
  {
   "cell_type": "code",
   "execution_count": 10,
   "metadata": {},
   "outputs": [
    {
     "name": "stdout",
     "output_type": "stream",
     "text": [
      "ID: Sick\n",
      "Name: Sick\n",
      "Description: Sick patient HBB\n",
      "Number of features: 0\n",
      "Seq('ACATTTGCTTCTGACACAACTGTGTTCACTAGCAACCTCAAACAGACACCATGG...CAA', SingleLetterAlphabet())\n",
      "ACATTTGCTTCTGACACAACTGTGTTCACTAGCAACCTCAAACAGACACCATGGTGCATCTGACTCCTGTGGAGAAGTCTGCCGTTACTGCCCTGTGGGGCAAGGTGAACGTGGATGAAGTTGGTGGTGAGGCCCTGGGCAGGCTGCTGGTGGTCTACCCTTGGACCCAGAGGTTCTTTGAGTCCTTTGGGGATCTGTCCACTCCTGATGCTGTTATGGGCAACCCTAAGGTGAAGGCTCATGGCAAGAAAGTGCTCGGTGCCTTTAGTGATGGCCTGGCTCACCTGGACAACCTCAAGGGCACCTTTGCCACACTGAGTGAGCTGCACTGTGACAAGCTGCACGTGGATCCTGAGAACTTCAGGCTCCTGGGCAACGTGCTGGTCTGTGTGCTGGCCCATCACTTTGGCAAAGAATTCACCCCACCAGTGCAGGCTGCCTATCAGAAAGTGGTGGCTGGTGTGGCTAATGCCCTGGCCCACAAGTATCACTAAGCTCGCTTTCTTGCTGTCCAATTTCTATTAAAGGTTCCTTTGTTCCCTAAGTCCAACTACTAAACTGGGGGATATTATGAAGGGCCTTGAGCATCTGGATTCTGCCTAATAAAAAACATTTATTTTCATTGCAA\n"
     ]
    }
   ],
   "source": [
    "#MSA\n",
    "from Bio.Seq import Seq\n",
    "import Bio.SeqIO as SeqIO\n",
    "import random\n",
    "\n",
    "sick_patient_seq = SeqIO.read('HBS.fasta', 'fasta')\n",
    "print(sick_patient_seq)\n",
    "print(sick_patient_seq.seq)\n",
    "\n",
    "\n",
    "# number of individuals in each generation \n",
    "NUM_SEQ = 10\n",
    "POP_SIZE = 10\n",
    "SEQ_LEN = 15"
   ]
  },
  {
   "cell_type": "code",
   "execution_count": 5,
   "metadata": {},
   "outputs": [],
   "source": [
    "def generate_sequence(base, length=5, prob=0.5):\n",
    "    pattern = \"\"\n",
    "    a = [\"A\",\"C\",\"G\",\"T\"]\n",
    "    for i in range(0, length):\n",
    "        r = random.randrange(0,4)\n",
    "        p = random.random()\n",
    "        #print(r)\n",
    "        if p >= prob:\n",
    "            pattern += base[i]\n",
    "        else:\n",
    "            pattern += a[r]\n",
    "    return pattern \n",
    "\n",
    "def generate_set(base):\n",
    "    seq_set = []\n",
    "    for i in range(0, NUM_SEQ):\n",
    "        seq_set.append(generate_sequence(base, SEQ_LEN))\n",
    "       \n",
    "    return seq_set\n",
    "\n",
    "base = 'ACATTTGCTTCTGACACAACTGTGTTCACTAGCAACCTCAAACAGACACCATGG'\n",
    "sequences = generate_set(base)"
   ]
  },
  {
   "cell_type": "code",
   "execution_count": 6,
   "metadata": {},
   "outputs": [
    {
     "data": {
      "text/plain": [
       "['ATGTTTGCTTCGTGA',\n",
       " 'CCAGATCGTCCATAC',\n",
       " 'ACTTTACATTTTGAA',\n",
       " 'ACTTTTGCATCTCGG',\n",
       " 'AGCTCCGCTTCGTGC',\n",
       " 'ACGACGCCGTGTAGC',\n",
       " 'AGGGTTGGCTCGAAA',\n",
       " 'AAATTCTCTTGTAAC',\n",
       " 'ACTTTTGGATCCGAC',\n",
       " 'GTAGATCCTACTAAC']"
      ]
     },
     "execution_count": 6,
     "metadata": {},
     "output_type": "execute_result"
    }
   ],
   "source": [
    "sequences"
   ]
  },
  {
   "cell_type": "code",
   "execution_count": 17,
   "metadata": {},
   "outputs": [],
   "source": [
    "\n",
    "def initial_population(sequences, population_size):\n",
    "    population = []\n",
    "    movements = [i for i in range(-5, 5)]\n",
    "    \n",
    "    for _ in range(population_size):\n",
    "        population.append(random.sample(movements, len(sequences)))\n",
    "        \n",
    "    return population\n",
    "\n",
    "initial_pop = initial_population(sequences, POP_SIZE)"
   ]
  },
  {
   "cell_type": "code",
   "execution_count": 18,
   "metadata": {},
   "outputs": [
    {
     "data": {
      "text/plain": [
       "[[-5, 1, 3, -3, 2, -1, -2, -4, 4, 0],\n",
       " [2, -1, -5, -3, 1, -4, -2, 3, 4, 0],\n",
       " [-5, 4, 3, 2, 1, -2, 0, -1, -4, -3],\n",
       " [1, 4, 0, -2, -5, 2, -3, -4, 3, -1],\n",
       " [4, -2, -5, -4, 0, -3, 2, -1, 1, 3],\n",
       " [1, -4, -1, 0, 4, -5, 3, 2, -3, -2],\n",
       " [-2, 2, 4, 1, -3, 0, -4, -1, 3, -5],\n",
       " [-4, 3, 0, -1, 1, 4, -2, -3, -5, 2],\n",
       " [3, 1, -5, 4, 0, -2, -1, -3, 2, -4],\n",
       " [-4, 3, 1, -1, 0, 2, 4, -2, -3, -5]]"
      ]
     },
     "execution_count": 18,
     "metadata": {},
     "output_type": "execute_result"
    }
   ],
   "source": [
    "initial_pop"
   ]
  },
  {
   "cell_type": "code",
   "execution_count": 75,
   "metadata": {},
   "outputs": [
    {
     "name": "stdout",
     "output_type": "stream",
     "text": [
      "-5 4\n",
      "['A', 'T', 'G', 'T', 'T', 'T', 'G', 'C', 'T', 'T', 'C', 'G', 'T', 'G', 'A', '-', '-', '-', '-', '-', '-', '-', '-', '-', '-']\n",
      "['-', '-', '-', '-', '-', '-', 'C', 'C', 'A', 'G', 'A', 'T', 'C', 'G', 'T', 'C', 'C', 'A', 'T', 'A', 'C', '-', '-', '-', '-']\n",
      "['-', '-', '-', '-', '-', '-', '-', '-', 'A', 'C', 'T', 'T', 'T', 'A', 'C', 'A', 'T', 'T', 'T', 'T', 'G', 'A', 'A', '-', '-']\n",
      "['-', '-', 'A', 'C', 'T', 'T', 'T', 'T', 'G', 'C', 'A', 'T', 'C', 'T', 'C', 'G', 'G', '-', '-', '-', '-', '-', '-', '-', '-']\n",
      "['-', '-', '-', '-', '-', '-', '-', 'A', 'G', 'C', 'T', 'C', 'C', 'G', 'C', 'T', 'T', 'C', 'G', 'T', 'G', 'C', '-', '-', '-']\n",
      "['-', '-', '-', '-', 'A', 'C', 'G', 'A', 'C', 'G', 'C', 'C', 'G', 'T', 'G', 'T', 'A', 'G', 'C', '-', '-', '-', '-', '-', '-']\n",
      "['-', '-', '-', 'A', 'G', 'G', 'G', 'T', 'T', 'G', 'G', 'C', 'T', 'C', 'G', 'A', 'A', 'A', '-', '-', '-', '-', '-', '-', '-']\n",
      "['-', 'A', 'A', 'A', 'T', 'T', 'C', 'T', 'C', 'T', 'T', 'G', 'T', 'A', 'A', 'C', '-', '-', '-', '-', '-', '-', '-', '-', '-']\n",
      "['-', '-', '-', '-', '-', '-', '-', '-', '-', 'A', 'C', 'T', 'T', 'T', 'T', 'G', 'G', 'A', 'T', 'C', 'C', 'G', 'A', 'C', '-']\n",
      "['-', '-', '-', '-', '-', 'G', 'T', 'A', 'G', 'A', 'T', 'C', 'C', 'T', 'A', 'C', 'T', 'A', 'A', 'C', '-', '-', '-', '-', '-']\n"
     ]
    }
   ],
   "source": [
    "def pad_seq(seq, pad, l ,r):\n",
    "    sample_size = r - l + SEQ_LEN + 1\n",
    "    sample = ['-' for i in range(sample_size)]\n",
    "    \n",
    "    sample[pad - l: pad - l + len(seq)] = seq\n",
    "\n",
    "    print(sample)\n",
    "    return sample\n",
    "\n",
    "l = min(initial_pop[0])\n",
    "r = max(initial_pop[0])\n",
    "print(l,r)\n",
    "for p,s in zip(initial_pop[0], sequences):\n",
    "    pad_seq(s, p, l, r)\n",
    "        "
   ]
  },
  {
   "cell_type": "code",
   "execution_count": null,
   "metadata": {},
   "outputs": [],
   "source": [
    "def fitness_function(m=1,mm=-1,g=0, seqs):\n",
    "    #gaps 0\n",
    "    #mismatch -1 \n",
    "    #match 1 \n",
    "    #score = m + mm + g\n",
    "    match, mismatch, gap = 0\n",
    "    for i in range(0,len(template)):\n",
    "        #match \n",
    "        if (seq[i] == template[i]):\n",
    "            match += 1\n",
    "            \n",
    "    score = match + mismatch + gap\n",
    "    \n",
    "def msa(seq, seqs):\n",
    "    \n",
    "\n",
    "def initial_chromosome(initial_pop):\n",
    "    "
   ]
  },
  {
   "cell_type": "code",
   "execution_count": null,
   "metadata": {},
   "outputs": [],
   "source": []
  }
 ],
 "metadata": {
  "kernelspec": {
   "display_name": "Python 3",
   "language": "python",
   "name": "python3"
  },
  "language_info": {
   "codemirror_mode": {
    "name": "ipython",
    "version": 3
   },
   "file_extension": ".py",
   "mimetype": "text/x-python",
   "name": "python",
   "nbconvert_exporter": "python",
   "pygments_lexer": "ipython3",
   "version": "3.7.7"
  }
 },
 "nbformat": 4,
 "nbformat_minor": 4
}
