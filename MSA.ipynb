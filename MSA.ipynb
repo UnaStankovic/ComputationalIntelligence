{
 "cells": [
  {
   "cell_type": "code",
   "execution_count": 20,
   "metadata": {},
   "outputs": [
    {
     "name": "stdout",
     "output_type": "stream",
     "text": [
      "ID: Sick\n",
      "Name: Sick\n",
      "Description: Sick patient HBB\n",
      "Number of features: 0\n",
      "Seq('ACATTTGCTTCTGACACAACTGTGTTCACTAGCAACCTCAAACAGACACCATGG...CAA', SingleLetterAlphabet())\n",
      "ACATTTGCTTCTGACACAACTGTGTTCACTAGCAACCTCAAACAGACACCATGGTGCATCTGACTCCTGTGGAGAAGTCTGCCGTTACTGCCCTGTGGGGCAAGGTGAACGTGGATGAAGTTGGTGGTGAGGCCCTGGGCAGGCTGCTGGTGGTCTACCCTTGGACCCAGAGGTTCTTTGAGTCCTTTGGGGATCTGTCCACTCCTGATGCTGTTATGGGCAACCCTAAGGTGAAGGCTCATGGCAAGAAAGTGCTCGGTGCCTTTAGTGATGGCCTGGCTCACCTGGACAACCTCAAGGGCACCTTTGCCACACTGAGTGAGCTGCACTGTGACAAGCTGCACGTGGATCCTGAGAACTTCAGGCTCCTGGGCAACGTGCTGGTCTGTGTGCTGGCCCATCACTTTGGCAAAGAATTCACCCCACCAGTGCAGGCTGCCTATCAGAAAGTGGTGGCTGGTGTGGCTAATGCCCTGGCCCACAAGTATCACTAAGCTCGCTTTCTTGCTGTCCAATTTCTATTAAAGGTTCCTTTGTTCCCTAAGTCCAACTACTAAACTGGGGGATATTATGAAGGGCCTTGAGCATCTGGATTCTGCCTAATAAAAAACATTTATTTTCATTGCAA\n"
     ]
    }
   ],
   "source": [
    "#MSA\n",
    "from Bio.Seq import Seq\n",
    "import Bio.SeqIO as SeqIO\n",
    "import random\n",
    "\n",
    "sick_patient_seq = SeqIO.read('HBS.fasta', 'fasta')\n",
    "print(sick_patient_seq)\n",
    "print(sick_patient_seq.seq)\n",
    "\n",
    "\n",
    "# number of individuals in each generation \n",
    "POPULATION_SIZE = 100\n",
    "SEQ_LEN = 15"
   ]
  },
  {
   "cell_type": "code",
   "execution_count": 32,
   "metadata": {},
   "outputs": [],
   "source": [
    "def generate_sequence(base, length=5, prob=2):\n",
    "    p = \"\"\n",
    "    a = [\"A\",\"C\",\"G\",\"T\"]\n",
    "    for i in range(0, length):\n",
    "        r = random.randrange(0,4)\n",
    "        #print(r)\n",
    "        if r < prob:\n",
    "            p += base[i]\n",
    "        else:\n",
    "            p += a[r]\n",
    "    return p \n",
    "\n",
    "def generate_population(base):\n",
    "    population = []\n",
    "    for i in range(0, POPULATION_SIZE):\n",
    "        population.append(generate_sequence(base, SEQ_LEN))\n",
    "        #print(population[i])\n",
    "    return population\n",
    "\n",
    "base = 'ACATTTGCTTCTGACACAACTGTGTTCACTAGCAACCTCAAACAGACACCATGG'\n",
    "population = generate_population(base)"
   ]
  },
  {
   "cell_type": "code",
   "execution_count": 34,
   "metadata": {},
   "outputs": [],
   "source": [
    "\n",
    "def initial_movement(population, gap):\n",
    "    if(gap > SEQ_LEN - 5):\n",
    "        print(\"You have to take smaller gap\")\n",
    "        return\n",
    "    initial_pop = []\n",
    "    #for index, p in enumerate(population):\n",
    "    for p in population:\n",
    "        pom = \"\"\n",
    "        move = random.randrange(0,gap)\n",
    "        for i in range(0, move):\n",
    "            pom += \"-\"\n",
    "        new_p = pom + p\n",
    "        new_p = new_p[0:SEQ_LEN]\n",
    "        initial_pop.append(new_p)\n",
    "        #print(new_p)\n",
    "        #population[index] = new_p\n",
    "\n",
    "    return initial_pop\n",
    "\n",
    "initial_pop = initial_movement(population, 5)"
   ]
  },
  {
   "cell_type": "code",
   "execution_count": null,
   "metadata": {},
   "outputs": [],
   "source": [
    "def fitness_function():\n",
    "    \n",
    "\n",
    "def msa(seq, seqs):\n",
    "    \n",
    "\n",
    "def initial_chromosome(initial_pop):\n",
    "    "
   ]
  },
  {
   "cell_type": "code",
   "execution_count": null,
   "metadata": {},
   "outputs": [],
   "source": []
  }
 ],
 "metadata": {
  "kernelspec": {
   "display_name": "Python 3",
   "language": "python",
   "name": "python3"
  },
  "language_info": {
   "codemirror_mode": {
    "name": "ipython",
    "version": 3
   },
   "file_extension": ".py",
   "mimetype": "text/x-python",
   "name": "python",
   "nbconvert_exporter": "python",
   "pygments_lexer": "ipython3",
   "version": "3.7.7"
  }
 },
 "nbformat": 4,
 "nbformat_minor": 4
}
