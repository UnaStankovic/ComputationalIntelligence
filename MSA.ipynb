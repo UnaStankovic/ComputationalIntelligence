{
 "cells": [
  {
   "cell_type": "code",
   "execution_count": 27,
   "metadata": {},
   "outputs": [
    {
     "name": "stdout",
     "output_type": "stream",
     "text": [
      "ID: Sick\n",
      "Name: Sick\n",
      "Description: Sick patient HBB\n",
      "Number of features: 0\n",
      "Seq('ACATTTGCTTCTGACACAACTGTGTTCACTAGCAACCTCAAACAGACACCATGG...CAA', SingleLetterAlphabet())\n",
      "ACATTTGCTTCTGACACAACTGTGTTCACTAGCAACCTCAAACAGACACCATGGTGCATCTGACTCCTGTGGAGAAGTCTGCCGTTACTGCCCTGTGGGGCAAGGTGAACGTGGATGAAGTTGGTGGTGAGGCCCTGGGCAGGCTGCTGGTGGTCTACCCTTGGACCCAGAGGTTCTTTGAGTCCTTTGGGGATCTGTCCACTCCTGATGCTGTTATGGGCAACCCTAAGGTGAAGGCTCATGGCAAGAAAGTGCTCGGTGCCTTTAGTGATGGCCTGGCTCACCTGGACAACCTCAAGGGCACCTTTGCCACACTGAGTGAGCTGCACTGTGACAAGCTGCACGTGGATCCTGAGAACTTCAGGCTCCTGGGCAACGTGCTGGTCTGTGTGCTGGCCCATCACTTTGGCAAAGAATTCACCCCACCAGTGCAGGCTGCCTATCAGAAAGTGGTGGCTGGTGTGGCTAATGCCCTGGCCCACAAGTATCACTAAGCTCGCTTTCTTGCTGTCCAATTTCTATTAAAGGTTCCTTTGTTCCCTAAGTCCAACTACTAAACTGGGGGATATTATGAAGGGCCTTGAGCATCTGGATTCTGCCTAATAAAAAACATTTATTTTCATTGCAA\n"
     ]
    }
   ],
   "source": [
    "#MSA\n",
    "from Bio.Seq import Seq\n",
    "import Bio.SeqIO as SeqIO\n",
    "import random\n",
    "import numpy as np\n",
    "\n",
    "sick_patient_seq = SeqIO.read('HBS.fasta', 'fasta')\n",
    "print(sick_patient_seq)\n",
    "print(sick_patient_seq.seq)\n",
    "\n",
    "\n",
    "# number of individuals in each generation \n",
    "NUM_SEQ = 10\n",
    "POP_SIZE = 10\n",
    "SEQ_LEN = 15\n",
    "MOV_LEFT = -5\n",
    "MOV_RIGHT = 5"
   ]
  },
  {
   "cell_type": "code",
   "execution_count": 28,
   "metadata": {},
   "outputs": [],
   "source": [
    "def generate_sequence(base, length=5, prob=0.5):\n",
    "    pattern = \"\"\n",
    "    a = [\"A\",\"C\",\"G\",\"T\"]\n",
    "    \n",
    "    for i in range(0, length):\n",
    "        r = random.randrange(0,4)\n",
    "        p = random.random()\n",
    "        #print(r)\n",
    "        if p >= prob:\n",
    "            pattern += base[i]\n",
    "        else:\n",
    "            pattern += a[r]\n",
    "            \n",
    "    return pattern \n",
    "\n",
    "def generate_set(base):\n",
    "    seq_set = []\n",
    "    \n",
    "    for i in range(0, NUM_SEQ):\n",
    "        seq_set.append(generate_sequence(base, SEQ_LEN))\n",
    "       \n",
    "    return seq_set\n",
    "\n",
    "base = 'ACATTTGCTTCTGACACAACTGTGTTCACTAGCAACCTCAAACAGACACCATGG'\n",
    "sequences = generate_set(base)"
   ]
  },
  {
   "cell_type": "code",
   "execution_count": 29,
   "metadata": {},
   "outputs": [
    {
     "data": {
      "text/plain": [
       "['TCAAATGCTTCTGGC',\n",
       " 'ATATCGAAGTCTCCC',\n",
       " 'GCATGTGCTTCTGTT',\n",
       " 'CAATTTGCCGCTGGC',\n",
       " 'ACTTTTACTCTTGTA',\n",
       " 'TCCTTCGTTGATTGC',\n",
       " 'TCACTTTCTTGTAGA',\n",
       " 'TCCTGCGCTTGCGAC',\n",
       " 'ACGTTTGCTACCCCT',\n",
       " 'TCGTGTCCTTTGGGC']"
      ]
     },
     "execution_count": 29,
     "metadata": {},
     "output_type": "execute_result"
    }
   ],
   "source": [
    "sequences"
   ]
  },
  {
   "cell_type": "code",
   "execution_count": 30,
   "metadata": {},
   "outputs": [],
   "source": [
    "\n",
    "def initial_population(sequences, population_size):\n",
    "    population = []\n",
    "    movements = [i for i in range(MOV_LEFT, MOV_RIGHT)]\n",
    "    \n",
    "    for _ in range(population_size):\n",
    "        population.append(random.sample(movements, len(sequences)))\n",
    "        \n",
    "    return population\n",
    "\n",
    "initial_pop = initial_population(sequences, POP_SIZE)"
   ]
  },
  {
   "cell_type": "code",
   "execution_count": 31,
   "metadata": {},
   "outputs": [
    {
     "data": {
      "text/plain": [
       "[[-2, 1, 4, 0, 3, -5, 2, -3, -4, -1],\n",
       " [1, 3, -4, 2, -1, -3, -5, 0, -2, 4],\n",
       " [-3, -1, -4, 3, -5, 1, 4, -2, 2, 0],\n",
       " [3, -4, -3, 0, 1, 2, 4, -5, -1, -2],\n",
       " [-2, 1, 3, -4, 4, -5, -1, -3, 0, 2],\n",
       " [4, -1, -2, 0, -5, 2, 3, -4, 1, -3],\n",
       " [-5, 0, 4, 1, -4, -3, -2, 2, -1, 3],\n",
       " [-5, 1, 0, 3, -2, -1, -3, -4, 2, 4],\n",
       " [-4, -3, 4, -5, 1, -2, -1, 0, 3, 2],\n",
       " [-5, -3, -4, 4, 0, 1, 3, 2, -2, -1]]"
      ]
     },
     "execution_count": 31,
     "metadata": {},
     "output_type": "execute_result"
    }
   ],
   "source": [
    "initial_pop"
   ]
  },
  {
   "cell_type": "code",
   "execution_count": 35,
   "metadata": {},
   "outputs": [],
   "source": [
    "def calc_score(seqs):\n",
    "    s = np.array(seqs)\n",
    "    #print(set(s[:,0]))\n",
    "    \n",
    "    score = 0\n",
    "    \n",
    "    #looking for num of cols\n",
    "    for i in range(0,s.shape[1]):\n",
    "        #print(len(set(s[:,i])))\n",
    "        score += len(set(s[:,i]))\n",
    "        \n",
    "    return score\n",
    "\n",
    "def MSA(ps, top=5):\n",
    "    scores = []\n",
    "    top_scores = []\n",
    "    if top > NUM_SEQ:\n",
    "        print(\"Top must be smaller or the same num as number of sequences.\")\n",
    "        return\n",
    "    for i in range(0, len(ps)):\n",
    "        scores.append((initial_pop[i],calc_score(ps[i])))\n",
    "    scores = sorted(scores, key=lambda x: x[1])\n",
    "    \n",
    "    for i in range(0, top):\n",
    "        top_scores.append(scores[i])\n",
    "\n",
    "    return top_scores \n",
    "\n",
    "def pad_sequence(seq, pad, l ,r):\n",
    "    sample_size = r - l + SEQ_LEN + 1\n",
    "    sample = ['-' for i in range(sample_size)]\n",
    "    \n",
    "    sample[pad - l: pad - l + len(seq)] = seq\n",
    "\n",
    "    return sample\n",
    "\n",
    "\n",
    "def padded_sequences(initial_pop):\n",
    "    #padded based on population\n",
    "    padded_sequences = []\n",
    "    for i in range(0,len(initial_pop)):\n",
    "        #highest and lowest padding values\n",
    "        l = min(initial_pop[i])\n",
    "        r = max(initial_pop[i])\n",
    "        #for each chromosome\n",
    "        padded_seqs = []\n",
    "        for p,s in zip(initial_pop[i], sequences):\n",
    "            padded_seqs.append(pad_sequence(s, p, l, r))\n",
    "        padded_sequences.append(padded_seqs)\n",
    "    return padded_sequences\n",
    "\n",
    "padded_seqs = padded_sequences(initial_pop)\n",
    "    \n",
    "top_chromosomes = MSA(padded_seqs)\n"
   ]
  },
  {
   "cell_type": "code",
   "execution_count": 36,
   "metadata": {},
   "outputs": [
    {
     "name": "stdout",
     "output_type": "stream",
     "text": [
      "[[-5, 1, 0, 3, -2, -1, -3, -4, 2, 4], [-2, -1, -3, -4, 2, 4, -5, 1, 0, 3], [-5, -1, -4, 3, -5, 1, 4, -2, 2, 0], [-3, -4, -3, 0, 1, 3, 2, -2, -1, -3], [-5, -3, -4, 4, 0, 1, -5, 0, -2, 4], [3, 2, -2, -1, 1, 3, -4, 2, -1, -3], [-5, -3, -4, 4, 0, 1, 3, 2, 2, 4], [-2, -1, -5, 1, 0, 3, -2, -1, -3, -4], [-5, -2, -4, 2, -1, -3, -5, 0, -2, 4], [4, 1, -4, -3, -2, 2, -1, 3, 1, 3]]\n"
     ]
    }
   ],
   "source": [
    "def mutate(chromosome, mutated = 1, p = 0.1):\n",
    "    mut = random.random()\n",
    "    new_chr = chromosome\n",
    "    if(mut < p):\n",
    "        for j in range(0, mutated):\n",
    "            #picking random character position to be mutated\n",
    "            pos = random.randrange(0, len(new_chr))\n",
    "            r = random.randrange(MOV_LEFT,MOV_RIGHT)\n",
    "            new_chr[pos] = r\n",
    "    return new_chr\n",
    "\n",
    "def crossover_and_generate_new(top_chromosomes):\n",
    "    global POP_SIZE\n",
    "    new_pop = []\n",
    "    #generating new population\n",
    "    for i in range(0,round(POP_SIZE/2)):\n",
    "        r = random.randrange(0, NUM_SEQ-1)\n",
    "        r_ch1 = random.randrange(0, len(top_chromosomes))\n",
    "        r_ch2 = random.randrange(0, len(top_chromosomes))\n",
    "        \n",
    "        #crossover\n",
    "        new_chr = top_chromosomes[r_ch1][0][:r] + top_chromosomes[r_ch2][0][r:]\n",
    "        new_chr2 = top_chromosomes[r_ch1][0][r:] + top_chromosomes[r_ch2][0][:r]\n",
    "        \n",
    "        #performing mutation if mut is bigger than p\n",
    "        new_chr = mutate(new_chr)\n",
    "        new_chr2 = mutate(new_chr2)\n",
    "        \n",
    "        new_pop.append(new_chr)\n",
    "        new_pop.append(new_chr2)\n",
    "        \n",
    "    return new_pop\n",
    "#print(top_chromosomes)\n",
    "new_population = crossover_and_generate_new(top_chromosomes)\n",
    "print(new_population)"
   ]
  },
  {
   "cell_type": "code",
   "execution_count": 37,
   "metadata": {},
   "outputs": [],
   "source": [
    "padded_seqs = padded_sequences(new_population)\n",
    "top_chromosomes = MSA(padded_seqs)\n",
    "print(top_chromosomes)"
   ]
  },
  {
   "cell_type": "code",
   "execution_count": null,
   "metadata": {},
   "outputs": [],
   "source": []
  },
  {
   "cell_type": "code",
   "execution_count": null,
   "metadata": {},
   "outputs": [],
   "source": []
  }
 ],
 "metadata": {
  "kernelspec": {
   "display_name": "Python 3",
   "language": "python",
   "name": "python3"
  },
  "language_info": {
   "codemirror_mode": {
    "name": "ipython",
    "version": 3
   },
   "file_extension": ".py",
   "mimetype": "text/x-python",
   "name": "python",
   "nbconvert_exporter": "python",
   "pygments_lexer": "ipython3",
   "version": "3.7.7"
  }
 },
 "nbformat": 4,
 "nbformat_minor": 4
}
